{
 "cells": [
  {
   "cell_type": "code",
   "execution_count": 1,
   "metadata": {},
   "outputs": [
    {
     "name": "stdout",
     "output_type": "stream",
     "text": [
      "Enabling encryption...\n",
      "Encryption enabled\n",
      "endpoint https://m5knaekxo6.execute-api.us-west-2.amazonaws.com/dev-v0001/rlxmooc\n"
     ]
    },
    {
     "data": {
      "text/html": [
       "<h3>See <a href='https://m5knaekxo6.execute-api.us-west-2.amazonaws.com/dev-v0001/rlxmooc/web/login' target='_blank'>my courses and progress</a></h2>"
      ],
      "text/plain": [
       "<IPython.core.display.HTML object>"
      ]
     },
     "execution_count": 1,
     "metadata": {},
     "output_type": "execute_result"
    }
   ],
   "source": [
    "import init\n",
    "init.init(force_download=False)\n",
    "import sourcedefender\n",
    "init.get_weblink()"
   ]
  },
  {
   "cell_type": "code",
   "execution_count": 2,
   "metadata": {},
   "outputs": [
    {
     "name": "stdout",
     "output_type": "stream",
     "text": [
      "username: test_student\n",
      "password: ········\n"
     ]
    }
   ],
   "source": [
    "from local.lib.rlxmoocapi import submit, session\n",
    "import inspect\n",
    "student = session.Session(init.endpoint).login( course_id=init.course_id, \n",
    "                                                session_id=\"UDEA\", \n",
    "                                                lab_id=\"lab_01\" )"
   ]
  },
  {
   "cell_type": "code",
   "execution_count": 7,
   "metadata": {},
   "outputs": [],
   "source": [
    "import numpy as np"
   ]
  },
  {
   "cell_type": "markdown",
   "metadata": {},
   "source": [
    "## Ejercicio 1: Obtener el máximo y el mínimo de una lista\n",
    "\n",
    "Una de las estructuras de datos en python son las listas, y aprender a obtener datos de ellas es importante para el manejo del lenguaje, por esto vamos a hallar el **max** y el **min** de una de ellas\n",
    "\n",
    "Ejemplo:\n",
    "    [1, 7, 11, 3, 5, 2]\n",
    "    \n",
    "    el minimo valor es 1\n",
    "    el valor maximo es 11\n",
    "    "
   ]
  },
  {
   "cell_type": "code",
   "execution_count": 8,
   "metadata": {},
   "outputs": [
    {
     "data": {
      "text/plain": [
       "array([33, 44, 32,  3, 17, 22,  1, 48, 43, 31, 10, 42,  4,  6, 11, 13, 48,\n",
       "       40, 44, 48])"
      ]
     },
     "execution_count": 8,
     "metadata": {},
     "output_type": "execute_result"
    }
   ],
   "source": [
    "lst = np.random.randint(50, size=20)\n",
    "lst"
   ]
  },
  {
   "cell_type": "markdown",
   "metadata": {},
   "source": [
    "**Tu solución**\n",
    "\n",
    "Debes de asignar a las variables max y min el valor del maximo y minimo valor en la lista list"
   ]
  },
  {
   "cell_type": "code",
   "execution_count": 9,
   "metadata": {},
   "outputs": [],
   "source": [
    "maximum = ...\n",
    "minimum = ..."
   ]
  },
  {
   "cell_type": "code",
   "execution_count": 10,
   "metadata": {},
   "outputs": [
    {
     "data": {
      "text/plain": [
       "(list, 1)"
      ]
     },
     "execution_count": 10,
     "metadata": {},
     "output_type": "execute_result"
    }
   ],
   "source": [
    "## TEACHER\n",
    "np.max(list), np.min(lst)"
   ]
  },
  {
   "cell_type": "code",
   "execution_count": 11,
   "metadata": {},
   "outputs": [],
   "source": [
    "## TEACHER DEFINEGRADER\n",
    "def grader_00(functions, variables, caller_userid):\n",
    "    import numpy as np\n",
    "    \n",
    "    st_list = variables['lst']\n",
    "    st_max = variables['maximum']\n",
    "    st_min = variables['minimum']\n",
    "    \n",
    "    t_max = np.max(st_list)\n",
    "    t_min = np.min(st_list)\n",
    "    \n",
    "    if (t_max==st_max) & (t_min==st_min):\n",
    "        return 5, '<b>correct</b>'\n",
    "    else:\n",
    "        return 0, '<b>incorrect</b>'\n",
    "    \n",
    "source_functions_names_00 = []\n",
    "source_variables_names_00 = ['lst', 'maximum', 'minimum']"
   ]
  },
  {
   "cell_type": "code",
   "execution_count": 12,
   "metadata": {},
   "outputs": [],
   "source": [
    "## TEACHER\n",
    "teacher = session.Session(init.endpoint).login('test_teacher', 'hola')"
   ]
  },
  {
   "cell_type": "code",
   "execution_count": 13,
   "metadata": {},
   "outputs": [],
   "source": [
    "## TEACHER SETGRADER\n",
    "teacher.set_grader(init.course_id, \"lab_01\", 'task_00',\n",
    "                  inspect.getsource(grader_00), 'grader_00',\n",
    "                  source_functions_names_00, source_variables_names_00)"
   ]
  },
  {
   "cell_type": "markdown",
   "metadata": {},
   "source": [
    "**Registra tu solución en linea**"
   ]
  },
  {
   "cell_type": "code",
   "execution_count": 14,
   "metadata": {},
   "outputs": [
    {
     "data": {
      "text/html": [
       "\n",
       "                <b>task_00 submitted.</b> <b><font color=\"blue\">your grade is 5</font></b> \n",
       "                <p/><pre>----- grader message -------</pre><b>correct</b><pre>----------------------------</pre>\n",
       "                <p/><p/>\n",
       "                <div style=\"font-size:10px\"><b>SUBMISSION CODE</b> UufuuxytcyNXvbObl0Bhyj/5pQ3khWp1KFqneu+7PIoXCFZ0M2A2MRnAMTXtcg1rFVxB09UqfmHEfHyyuvfW0XMOqOKG+WCGJOG9EsN/6xwfd/V1j1Ko9wVZd02jWubT</div>\n",
       "                "
      ],
      "text/plain": [
       "<IPython.core.display.HTML object>"
      ]
     },
     "metadata": {},
     "output_type": "display_data"
    },
    {
     "data": {
      "text/plain": [
       "{'grade': 5,\n",
       " 'message': '<b>correct</b>',\n",
       " 'submission_stamp': 'UufuuxytcyNXvbObl0Bhyj/5pQ3khWp1KFqneu+7PIoXCFZ0M2A2MRnAMTXtcg1rFVxB09UqfmHEfHyyuvfW0XMOqOKG+WCGJOG9EsN/6xwfd/V1j1Ko9wVZd02jWubT'}"
      ]
     },
     "execution_count": 14,
     "metadata": {},
     "output_type": "execute_result"
    }
   ],
   "source": [
    "student.submit_task(namespace=globals(), course_id=init.course_id, lab_id='lab_01', task_id='task_00')"
   ]
  },
  {
   "cell_type": "markdown",
   "metadata": {},
   "source": [
    "## Ejercicio 2: Crear una función que encuentre la media y desviación estandar\n",
    "\n",
    "Ejemplo:\n",
    "    [1, 7, 11, 3, 5, 2]\n",
    "    \n",
    "    la media es 4.8\n",
    "    la desviación estandar es 3.4"
   ]
  },
  {
   "cell_type": "code",
   "execution_count": 15,
   "metadata": {},
   "outputs": [],
   "source": [
    "def list_mean(lst):\n",
    "    ## your code here ##\n",
    "    mean = np.mean(lst)\n",
    "    return mean"
   ]
  },
  {
   "cell_type": "code",
   "execution_count": 16,
   "metadata": {},
   "outputs": [],
   "source": [
    "def list_stdev(lst):\n",
    "    ## your code here ##\n",
    "    stdev = np.std(lst)\n",
    "    return stdev"
   ]
  },
  {
   "cell_type": "markdown",
   "metadata": {},
   "source": [
    "Prueba tus funciones"
   ]
  },
  {
   "cell_type": "code",
   "execution_count": 17,
   "metadata": {},
   "outputs": [
    {
     "name": "stdout",
     "output_type": "stream",
     "text": [
      "[0 6 6 9 0]\n",
      "4.2\n",
      "3.6\n"
     ]
    }
   ],
   "source": [
    "lst_1 = np.random.randint(10, size=5)\n",
    "print(lst_1)\n",
    "print(list_mean(lst_1))\n",
    "print(list_stdev(lst_1))"
   ]
  },
  {
   "cell_type": "code",
   "execution_count": 18,
   "metadata": {},
   "outputs": [
    {
     "data": {
      "text/plain": [
       "(4.2, 3.6)"
      ]
     },
     "execution_count": 18,
     "metadata": {},
     "output_type": "execute_result"
    }
   ],
   "source": [
    "## TEACHER\n",
    "np.mean(lst_1), np.std(lst_1)"
   ]
  },
  {
   "cell_type": "code",
   "execution_count": 19,
   "metadata": {},
   "outputs": [],
   "source": [
    "## TEACHER DEFINEGRADER\n",
    "def grader_01(functions, variables, caller_userid):\n",
    "    import numpy as np\n",
    "    \n",
    "    print('Grader_01')\n",
    "    \n",
    "    # retrieve definitions\n",
    "    namespace = locals()\n",
    "    for f in functions.values():\n",
    "        exec(f, namespace)\n",
    "\n",
    "    st_mean_funct = namespace['list_mean']\n",
    "    st_stdev_funct = namespace['list_stdev']\n",
    "    \n",
    "    error = False\n",
    "    msg = ''\n",
    "    \n",
    "    for i in range(100):\n",
    "        size = np.random.randint(20)+3\n",
    "        list = np.random.randint(10, size=size)\n",
    "        mean = np.mean(list)\n",
    "        stdev = np.std(list)\n",
    "        if not (mean==st_mean_funct(list)):\n",
    "            msg += \"input\\nlist = \\n%s\\n\"%(str(list))\n",
    "            msg += \"expected output:%s\\n\"%str(mean)\n",
    "            msg += \"output obtained:%s\\n\"%str(st_mean_funct(list))\n",
    "            error = True\n",
    "            break\n",
    "        if not (stdev==st_stdev_funct(list)):\n",
    "            msg += \"input\\nlist = \\n%s\\n\"%(str(list))\n",
    "            msg += \"expected output:%s\\n\"%str(stdev)\n",
    "            msg += \"output obtained:%s\\n\"%str(st_stdev_funct(list))\n",
    "            error = True\n",
    "            break\n",
    "    \n",
    "    if not error:\n",
    "        msg += u'<b>CORRECT</b>'\n",
    "        return 5, '<b>correct</b>'\n",
    "    else:\n",
    "        msg += u'<b><font color=\"red\">INCORRECT</font></b>'\n",
    "        return 0, msg\n",
    "    \n",
    "source_functions_names_01 = ['list_mean', 'list_stdev']\n",
    "source_variables_names_01 = []"
   ]
  },
  {
   "cell_type": "code",
   "execution_count": 20,
   "metadata": {},
   "outputs": [],
   "source": [
    "## TEACHER\n",
    "teacher = session.Session(init.endpoint).login('test_teacher', 'hola')"
   ]
  },
  {
   "cell_type": "code",
   "execution_count": 21,
   "metadata": {},
   "outputs": [
    {
     "name": "stdout",
     "output_type": "stream",
     "text": [
      "Grader_01\n",
      "grade 5\n"
     ]
    },
    {
     "data": {
      "text/html": [
       "<b>correct</b>"
      ],
      "text/plain": [
       "<IPython.core.display.HTML object>"
      ]
     },
     "execution_count": 21,
     "metadata": {},
     "output_type": "execute_result"
    }
   ],
   "source": [
    "## TEACHER\n",
    "r = teacher.run_grader_locally(\"grader_01\", source_functions_names_01, source_variables_names_01, locals())\n",
    "from IPython.display import HTML\n",
    "print (\"grade\", r[0])\n",
    "HTML(r[1])"
   ]
  },
  {
   "cell_type": "code",
   "execution_count": 22,
   "metadata": {},
   "outputs": [],
   "source": [
    "## TEACHER SETGRADER\n",
    "teacher.set_grader(init.course_id, \"lab_01\", 'task_01',\n",
    "                  inspect.getsource(grader_01), 'grader_01',\n",
    "                  source_functions_names_01, source_variables_names_01)"
   ]
  },
  {
   "cell_type": "markdown",
   "metadata": {},
   "source": [
    "**Registra tu solución en linea**"
   ]
  },
  {
   "cell_type": "code",
   "execution_count": 23,
   "metadata": {},
   "outputs": [
    {
     "data": {
      "text/html": [
       "\n",
       "                <b>task_01 submitted.</b> <b><font color=\"blue\">your grade is 5</font></b> \n",
       "                <p/><pre>----- grader message -------</pre><b>correct</b><pre>----------------------------</pre>\n",
       "                <p/><p/>\n",
       "                <div style=\"font-size:10px\"><b>SUBMISSION CODE</b> 3Z3XfG+2BY9Ji3mL1Ya+QPpTdZg5sEPyy3R8kwdEjjXvxhn30mBYTNBXaH3m4bQXFncSNzERP1DC9wkM3VzsdepAx04mvA8LTi6YDhdl2UyZyYP7+Ms8+scLzUpBRzKW</div>\n",
       "                "
      ],
      "text/plain": [
       "<IPython.core.display.HTML object>"
      ]
     },
     "metadata": {},
     "output_type": "display_data"
    },
    {
     "data": {
      "text/plain": [
       "{'grade': 5,\n",
       " 'message': '<b>correct</b>',\n",
       " 'submission_stamp': '3Z3XfG+2BY9Ji3mL1Ya+QPpTdZg5sEPyy3R8kwdEjjXvxhn30mBYTNBXaH3m4bQXFncSNzERP1DC9wkM3VzsdepAx04mvA8LTi6YDhdl2UyZyYP7+Ms8+scLzUpBRzKW'}"
      ]
     },
     "execution_count": 23,
     "metadata": {},
     "output_type": "execute_result"
    }
   ],
   "source": [
    "student.submit_task(namespace=globals(), course_id=init.course_id, lab_id='lab_01', task_id='task_01')"
   ]
  },
  {
   "cell_type": "markdown",
   "metadata": {},
   "source": [
    "## Ejercicio 3: Ordenar una lista\n",
    "\n",
    "La idea en este ejercicio es que se ordene en forma ascendente los elementos de una lista\n",
    "\n",
    "Ejemplo:\n",
    "\n",
    "[1, 7, 11, 3, 5, 2] ---> [1, 2, 3, 5, 7, 11]"
   ]
  },
  {
   "cell_type": "code",
   "execution_count": 24,
   "metadata": {},
   "outputs": [],
   "source": [
    "def list_sort(list):\n",
    "    ## your code here ##\n",
    "    sorted_list = np.sort(list).tolist()\n",
    "    return sorted_list"
   ]
  },
  {
   "cell_type": "markdown",
   "metadata": {},
   "source": [
    "Prueba tu función"
   ]
  },
  {
   "cell_type": "code",
   "execution_count": 25,
   "metadata": {},
   "outputs": [
    {
     "name": "stdout",
     "output_type": "stream",
     "text": [
      "[18, 5, 7, 10, 17, 3, 6, 13, 2, 0]\n",
      "[0, 2, 3, 5, 6, 7, 10, 13, 17, 18]\n"
     ]
    }
   ],
   "source": [
    "import random\n",
    "list = random.sample(range(20), 10)\n",
    "print(list)\n",
    "print(list_sort(list))"
   ]
  },
  {
   "cell_type": "code",
   "execution_count": 26,
   "metadata": {},
   "outputs": [
    {
     "name": "stdout",
     "output_type": "stream",
     "text": [
      "[ 0  2  3  5  6  7 10 13 17 18]\n"
     ]
    }
   ],
   "source": [
    "## TEACHER\n",
    "sorted_list = np.sort(list)\n",
    "print(sorted_list)"
   ]
  },
  {
   "cell_type": "code",
   "execution_count": 27,
   "metadata": {},
   "outputs": [],
   "source": [
    "## TEACHER DEFINEGRADER\n",
    "def grader_02(functions, variables, caller_userid):\n",
    "    import numpy as np\n",
    "    import random\n",
    "    \n",
    "    print('Grader 02')\n",
    "    \n",
    "    # retrieve definitions\n",
    "    namespace = locals()\n",
    "    for f in functions.values():\n",
    "        exec(f, namespace)\n",
    "\n",
    "    st_sort_funct = namespace['list_sort']\n",
    "    \n",
    "    error = False\n",
    "    msg = ''\n",
    "    \n",
    "    for i in range(100):\n",
    "        size = np.random.randint(15)+3\n",
    "        list = random.sample(range(size+5), size)\n",
    "        sorted_list = np.sort(list)\n",
    "        st_sorted_list = st_sort_funct(list)\n",
    "        j = 0\n",
    "        while j < len(st_sorted_list): \n",
    "            if(st_sorted_list[j] < st_sorted_list[j - 1]):\n",
    "                msg += \"input\\nlist = \\n%s\\n\"%(str(list))\n",
    "                msg += \"expected output:%s\\n\"%str(sorted_list)\n",
    "                msg += \"output obtained:%s\\n\"%str(st_sort_funct(list))\n",
    "                error = True\n",
    "                break\n",
    "            j += 1\n",
    "            \n",
    "    \n",
    "    if not error:\n",
    "        msg += u'<b><font color=\"red\">INCORRECT</font></b>'\n",
    "        return 0, msg\n",
    "    else:\n",
    "        msg += u'<b>CORRECT</b>'\n",
    "        return 5, '<b>correct</b>'\n",
    "    \n",
    "source_functions_names_02 = ['list_sort']\n",
    "source_variables_names_02 = []"
   ]
  },
  {
   "cell_type": "code",
   "execution_count": 28,
   "metadata": {},
   "outputs": [],
   "source": [
    "## TEACHER\n",
    "teacher = session.Session(init.endpoint).login('test_teacher', 'hola')"
   ]
  },
  {
   "cell_type": "code",
   "execution_count": 29,
   "metadata": {},
   "outputs": [
    {
     "name": "stdout",
     "output_type": "stream",
     "text": [
      "Grader 02\n",
      "grade 5\n"
     ]
    },
    {
     "data": {
      "text/html": [
       "<b>correct</b>"
      ],
      "text/plain": [
       "<IPython.core.display.HTML object>"
      ]
     },
     "execution_count": 29,
     "metadata": {},
     "output_type": "execute_result"
    }
   ],
   "source": [
    "## TEACHER\n",
    "r = teacher.run_grader_locally(\"grader_02\", source_functions_names_02, source_variables_names_02, locals())\n",
    "from IPython.display import HTML\n",
    "print (\"grade\", r[0])\n",
    "HTML(r[1])"
   ]
  },
  {
   "cell_type": "code",
   "execution_count": 30,
   "metadata": {},
   "outputs": [],
   "source": [
    "## TEACHER SETGRADER\n",
    "teacher.set_grader(init.course_id, 'lab_01', 'task_02',\n",
    "                  inspect.getsource(grader_02), 'grader_02',\n",
    "                  source_functions_names_02, source_variables_names_02)"
   ]
  },
  {
   "cell_type": "markdown",
   "metadata": {},
   "source": [
    "**Registra tu solución en linea**"
   ]
  },
  {
   "cell_type": "code",
   "execution_count": 31,
   "metadata": {},
   "outputs": [
    {
     "data": {
      "text/html": [
       "\n",
       "                <b>task_02 submitted.</b> <b><font color=\"blue\">your grade is 5</font></b> \n",
       "                <p/><pre>----- grader message -------</pre><b>correct</b><pre>----------------------------</pre>\n",
       "                <p/><p/>\n",
       "                <div style=\"font-size:10px\"><b>SUBMISSION CODE</b> MBCU9fd0Lnm3pikkHj/HjbX43xGrarBaki4eMXevPMcef+FaOAlSr7jqj0KuheWCpZ8mAgp/+ubOc6zgJgCQBU0EU2a6m1HG/rnVhz+WtumXSdc15589Iwtc+S6imxWl</div>\n",
       "                "
      ],
      "text/plain": [
       "<IPython.core.display.HTML object>"
      ]
     },
     "metadata": {},
     "output_type": "display_data"
    },
    {
     "data": {
      "text/plain": [
       "{'grade': 5,\n",
       " 'message': '<b>correct</b>',\n",
       " 'submission_stamp': 'MBCU9fd0Lnm3pikkHj/HjbX43xGrarBaki4eMXevPMcef+FaOAlSr7jqj0KuheWCpZ8mAgp/+ubOc6zgJgCQBU0EU2a6m1HG/rnVhz+WtumXSdc15589Iwtc+S6imxWl'}"
      ]
     },
     "execution_count": 31,
     "metadata": {},
     "output_type": "execute_result"
    }
   ],
   "source": [
    "student.submit_task(namespace=globals(), course_id=init.course_id, lab_id='lab_01', task_id='task_02')"
   ]
  },
  {
   "cell_type": "code",
   "execution_count": null,
   "metadata": {},
   "outputs": [],
   "source": []
  }
 ],
 "metadata": {
  "kernelspec": {
   "display_name": "Python 3",
   "language": "python",
   "name": "python3"
  },
  "language_info": {
   "codemirror_mode": {
    "name": "ipython",
    "version": 3
   },
   "file_extension": ".py",
   "mimetype": "text/x-python",
   "name": "python",
   "nbconvert_exporter": "python",
   "pygments_lexer": "ipython3",
   "version": "3.6.9"
  }
 },
 "nbformat": 4,
 "nbformat_minor": 4
}
