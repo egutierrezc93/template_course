{
 "cells": [
  {
   "cell_type": "code",
   "execution_count": 1,
   "metadata": {},
   "outputs": [
    {
     "name": "stdout",
     "output_type": "stream",
     "text": [
      "Installing sourcedefender...\n",
      "Successfully installed\n"
     ]
    },
    {
     "data": {
      "text/plain": [
       "'http://localhost:5000/rlxmooc'"
      ]
     },
     "execution_count": 1,
     "metadata": {},
     "output_type": "execute_result"
    }
   ],
   "source": [
    "import init\n",
    "init.init(force_download=False)\n",
    "import sourcedefender\n",
    "from local.lib.rlxmoocapi import submit, session, utils\n",
    "init.endpoint"
   ]
  },
  {
   "cell_type": "markdown",
   "metadata": {},
   "source": [
    "\n",
    "# 1. setup \n",
    "\n",
    "### 1.A create teacher and student users\n"
   ]
  },
  {
   "cell_type": "code",
   "execution_count": 3,
   "metadata": {},
   "outputs": [
    {
     "name": "stdout",
     "output_type": "stream",
     "text": [
      "password: ········\n",
      "password: ········\n"
     ]
    }
   ],
   "source": [
    "from local.lib.rlxmoocapi import submit, session\n",
    "import inspect\n",
    "admin = session.Session(init.endpoint).login(\"admin\", \"4321X\")\n",
    "\n",
    "if not admin.user_exists(\"test_teacher\"):\n",
    "    print (\"creating teacher user\")\n",
    "    admin.create_user(\"test_teacher\", \"hola\", \"raul ramos\", \"rulix.rp@gmail.com\")\n",
    "\n",
    "if not admin.user_exists(\"test_student\"):\n",
    "    print(\"creating test student user\")\n",
    "    admin.create_user(\"test_student\", \"nada\", \"test student\", \"raul.ramos@udea.edu.co\")\n",
    "\n",
    "if not admin.user_exists(\"esteban.gutierrezc@udea.edu.co\"):\n",
    "    print(\"creating test student user\")\n",
    "    admin.create_user(\"esteban.gutierrezc@udea.edu.co\", \"nada\", \"Esteban Gutierrez\", \n",
    "                      \"esteban.gutierrezc@udea.edu.co\")\n",
    "        \n",
    "teacher = session.Session(init.endpoint).login(\"test_teacher\")\n",
    "student = session.Session(init.endpoint).login(\"test_student\")\n"
   ]
  },
  {
   "cell_type": "markdown",
   "metadata": {},
   "source": [
    "fast login"
   ]
  },
  {
   "cell_type": "code",
   "execution_count": 4,
   "metadata": {},
   "outputs": [],
   "source": [
    "from local.lib.rlxmoocapi import submit, session\n",
    "import inspect\n",
    "admin = session.Session(init.endpoint).login(\"admin\", \"4321X\")\n",
    "teacher = session.Session(init.endpoint).login(\"test_teacher\", \"hola\")\n",
    "student = session.Session(init.endpoint).login(\"test_student\", 'nada')\n"
   ]
  },
  {
   "cell_type": "markdown",
   "metadata": {},
   "source": [
    "\n",
    "## 1.B setup course and graders in server"
   ]
  },
  {
   "cell_type": "code",
   "execution_count": 5,
   "metadata": {},
   "outputs": [
    {
     "name": "stdout",
     "output_type": "stream",
     "text": [
      "course id: 20201.test\n",
      "deleting existing course\n",
      "RUNNING SETGRADERS IN 'LAB 01 - SUBMISSION EXAMPLE.ipynb'                .. found 3 setgraders\n",
      "---\n",
      " from rr47cebf640e7c4745b1ddd8623ac32954 import * \n",
      "import inspect\n",
      "## TEACHER SETGRADER\n",
      "teacher.set_grader('20201.test', \"lab_01\", 'task_00',\n",
      "                  inspect.getsource(grader_00), 'grader_00',\n",
      "                  source_functions_names_00, source_variables_names_00)\n",
      "\n",
      "\n",
      "## TEACHER SETGRADER\n",
      "teacher.set_grader('20201.test', \"lab_01\", 'task_01',\n",
      "                  inspect.getsource(grader_01), 'grader_01',\n",
      "                  source_functions_names_01, source_variables_names_01)\n",
      "\n",
      "\n",
      "## TEACHER SETGRADER\n",
      "teacher.set_grader('20201.test', 'lab_01', 'task_02',\n",
      "                  inspect.getsource(grader_02), 'grader_02',\n",
      "                  source_functions_names_02, source_variables_names_02)\n"
     ]
    }
   ],
   "source": [
    "from importlib import reload\n",
    "reload(utils)\n",
    "from local.lib.rlxmoocapi import utils\n",
    "\n",
    "course_id = utils.deploy_course(admin, teacher, \"course_spec.json\", \n",
    "                          aggregate_tasks_code=\"wmean\", \n",
    "                          aggregate_submissions_code=\"max\",\n",
    "                          set_grader_notebooks_fileglob=\"LAB*ipynb\")"
   ]
  },
  {
   "cell_type": "markdown",
   "metadata": {},
   "source": [
    "## 1.C create course session and enrol test student"
   ]
  },
  {
   "cell_type": "code",
   "execution_count": 6,
   "metadata": {},
   "outputs": [
    {
     "name": "stdout",
     "output_type": "stream",
     "text": [
      "deleted session 20201.test UDEA\n",
      "creating session 20201.test UDEA, starting on 2020-05-01\n"
     ]
    }
   ],
   "source": [
    "session_id = \"UDEA\"\n",
    "utils.deploy_session(teacher, course_id, session_id, \"2020-05-01\")"
   ]
  },
  {
   "cell_type": "code",
   "execution_count": 7,
   "metadata": {},
   "outputs": [],
   "source": [
    "#teacher.delete_user_session(student.user_id, course_id, session_id, delete_grades_and_submissions=False)"
   ]
  },
  {
   "cell_type": "code",
   "execution_count": 8,
   "metadata": {
    "scrolled": false
   },
   "outputs": [
    {
     "data": {
      "text/plain": [
       "'test_student'"
      ]
     },
     "execution_count": 8,
     "metadata": {},
     "output_type": "execute_result"
    }
   ],
   "source": [
    "student.user_id"
   ]
  },
  {
   "cell_type": "code",
   "execution_count": 9,
   "metadata": {},
   "outputs": [],
   "source": [
    "if not teacher.user_session_exists(student.user_id, course_id, session_id):\n",
    "    print (\"creating student course session\")\n",
    "    teacher.create_user_session(student.user_id, course_id, session_id)"
   ]
  },
  {
   "cell_type": "markdown",
   "metadata": {},
   "source": [
    "check session is created"
   ]
  },
  {
   "cell_type": "code",
   "execution_count": 10,
   "metadata": {},
   "outputs": [],
   "source": [
    "c = teacher.get_course(course_id)"
   ]
  },
  {
   "cell_type": "code",
   "execution_count": 11,
   "metadata": {},
   "outputs": [],
   "source": [
    "cs  = teacher.get_course_session(course_id, session_id)"
   ]
  },
  {
   "cell_type": "code",
   "execution_count": 12,
   "metadata": {},
   "outputs": [
    {
     "data": {
      "text/plain": [
       "{'course_description': 'Test Course',\n",
       " 'course_id': '20201.test',\n",
       " 'course_session_spec': {'course_id': '20201.test',\n",
       "  'end_date': '2021-02-12.00:00:00.[UTC-0500]',\n",
       "  'labs_dates': {'lab_01': {'end_date': '2021-02-12.00:00:00.[UTC-0500]',\n",
       "    'start_date': '2020-05-08.00:00:00.[UTC-0500]'}},\n",
       "  'session_id': 'UDEA',\n",
       "  'start_date': '2020-05-01.00:00:00.[UTC-0500]'},\n",
       " 'owner': 'test_teacher',\n",
       " 'participants': '[]',\n",
       " 'session_id': 'UDEA'}"
      ]
     },
     "execution_count": 12,
     "metadata": {},
     "output_type": "execute_result"
    }
   ],
   "source": [
    "cs"
   ]
  },
  {
   "cell_type": "code",
   "execution_count": 13,
   "metadata": {},
   "outputs": [
    {
     "data": {
      "text/plain": [
       "{'course_id': '20201.test',\n",
       " 'course_spec': {'aggregate_labs_code': 'wmean',\n",
       "  'course_description': 'Test Course',\n",
       "  'course_id': '20201.test',\n",
       "  'labs': [{'aggregate_tasks_code': 'wmean',\n",
       "    'description': 'Arrays Practice',\n",
       "    'lab_id': 'lab_01',\n",
       "    'name': 'Arrays Practice',\n",
       "    'start_week': 2,\n",
       "    'tasks': [{'aggregate_submissions_code': 'max',\n",
       "      'name': 'Array Max and Min',\n",
       "      'task_id': 'task_00',\n",
       "      'weight': 0.1},\n",
       "     {'aggregate_submissions_code': 'max',\n",
       "      'name': 'Array Mean and St Dev',\n",
       "      'task_id': 'task_01',\n",
       "      'weight': 0.4},\n",
       "     {'aggregate_submissions_code': 'max',\n",
       "      'name': 'Array Sort',\n",
       "      'task_id': 'task_02',\n",
       "      'weight': 0.5}],\n",
       "    'weeks_duration': 40,\n",
       "    'weight': 0.5}]},\n",
       " 'owner': 'test_teacher'}"
      ]
     },
     "execution_count": 13,
     "metadata": {},
     "output_type": "execute_result"
    }
   ],
   "source": [
    "c"
   ]
  },
  {
   "cell_type": "code",
   "execution_count": null,
   "metadata": {},
   "outputs": [],
   "source": []
  },
  {
   "cell_type": "markdown",
   "metadata": {},
   "source": [
    "## 1.D recompute grades for all students\n",
    "\n",
    "required very ocassionally"
   ]
  },
  {
   "cell_type": "code",
   "execution_count": 33,
   "metadata": {},
   "outputs": [],
   "source": [
    "#teacher.recompute_session_grades(course_id, session_id)"
   ]
  },
  {
   "cell_type": "markdown",
   "metadata": {},
   "source": [
    "## 1.E reinvite students if required"
   ]
  },
  {
   "cell_type": "code",
   "execution_count": 34,
   "metadata": {},
   "outputs": [
    {
     "data": {
      "text/plain": [
       "'20201.test'"
      ]
     },
     "execution_count": 34,
     "metadata": {},
     "output_type": "execute_result"
    }
   ],
   "source": [
    "init.course_id"
   ]
  },
  {
   "cell_type": "code",
   "execution_count": 35,
   "metadata": {},
   "outputs": [],
   "source": [
    "students = [\"esteban.gutierrezc@udea.edu.co\"]"
   ]
  },
  {
   "cell_type": "code",
   "execution_count": 36,
   "metadata": {},
   "outputs": [
    {
     "ename": "ValueError",
     "evalue": "sequence item 0: expected str instance, int found\n\ntraceback:\n  File \"/home/estebangutierrez/Master/estudianteInstructor/rlxmooc/app/app.py\", line 190, in function_wrapper\n    return func(*args, **kwargs)\n  File \"/home/estebangutierrez/Master/estudianteInstructor/rlxmooc/app/app.py\", line 205, in function_wrapper\n    return {\"error\": \",\".join(e.args), \"traceback\": traceback_str}, 403\n",
     "output_type": "error",
     "traceback": [
      "\u001b[0;31m---------------------------------------------------------------------------\u001b[0m",
      "\u001b[0;31mValueError\u001b[0m                                Traceback (most recent call last)",
      "\u001b[0;32m<ipython-input-36-f940545d2c00>\u001b[0m in \u001b[0;36m<module>\u001b[0;34m\u001b[0m\n\u001b[1;32m      3\u001b[0m \u001b[0mteacher\u001b[0m \u001b[0;34m=\u001b[0m \u001b[0msession\u001b[0m\u001b[0;34m.\u001b[0m\u001b[0mSession\u001b[0m\u001b[0;34m(\u001b[0m\u001b[0minit\u001b[0m\u001b[0;34m.\u001b[0m\u001b[0mendpoint\u001b[0m\u001b[0;34m)\u001b[0m\u001b[0;34m.\u001b[0m\u001b[0mlogin\u001b[0m\u001b[0;34m(\u001b[0m\u001b[0;34m\"test_teacher\"\u001b[0m\u001b[0;34m,\u001b[0m \u001b[0;34m\"hola\"\u001b[0m\u001b[0;34m)\u001b[0m\u001b[0;34m\u001b[0m\u001b[0;34m\u001b[0m\u001b[0m\n\u001b[1;32m      4\u001b[0m \u001b[0;32mfor\u001b[0m \u001b[0mi\u001b[0m \u001b[0;32min\u001b[0m \u001b[0mstudents\u001b[0m\u001b[0;34m:\u001b[0m\u001b[0;34m\u001b[0m\u001b[0;34m\u001b[0m\u001b[0m\n\u001b[0;32m----> 5\u001b[0;31m     \u001b[0mr\u001b[0m \u001b[0;34m=\u001b[0m \u001b[0mteacher\u001b[0m\u001b[0;34m.\u001b[0m\u001b[0minvite\u001b[0m\u001b[0;34m(\u001b[0m\u001b[0minit\u001b[0m\u001b[0;34m.\u001b[0m\u001b[0mcourse_id\u001b[0m\u001b[0;34m,\u001b[0m \u001b[0;34m\"UDEA\"\u001b[0m\u001b[0;34m,\u001b[0m \u001b[0;34m[\u001b[0m\u001b[0mi\u001b[0m\u001b[0;34m]\u001b[0m\u001b[0;34m)\u001b[0m\u001b[0;34m\u001b[0m\u001b[0;34m\u001b[0m\u001b[0m\n\u001b[0m\u001b[1;32m      6\u001b[0m     \u001b[0mprint\u001b[0m \u001b[0;34m(\u001b[0m\u001b[0mi\u001b[0m\u001b[0;34m,\u001b[0m \u001b[0mr\u001b[0m\u001b[0;34m.\u001b[0m\u001b[0mjson\u001b[0m\u001b[0;34m(\u001b[0m\u001b[0;34m)\u001b[0m\u001b[0;34m)\u001b[0m\u001b[0;34m\u001b[0m\u001b[0;34m\u001b[0m\u001b[0m\n",
      "\u001b[0;32m~/Master/estudianteInstructor/rlxmooc/test_course/teacher/local/lib/rlxmoocapi/session.pye\u001b[0m in \u001b[0;36minvite\u001b[0;34m(self, course_id, session_id, invitations_emails)\u001b[0m\n\u001b[1;32m    232\u001b[0m \u001b[0mFOrljvwOoMb5\u001b[0m\u001b[0;34m/\u001b[0m\u001b[0;36m8\u001b[0m\u001b[0mwzHJqKQtC\u001b[0m\u001b[0;34m+\u001b[0m\u001b[0;34m+\u001b[0m\u001b[0;36m3\u001b[0m\u001b[0mFdTSd2bpxezpmrDSnQooeqDQuSi\u001b[0m\u001b[0;34m/\u001b[0m\u001b[0mvI5VoJQLK3L7NzFN50Ekgn\u001b[0m\u001b[0;34m\u001b[0m\u001b[0;34m\u001b[0m\u001b[0m\n\u001b[1;32m    233\u001b[0m \u001b[0mU1p5D2QE8G6tUGYed6jQInBG0ObhW8mNb9HD\u001b[0m\u001b[0;34m/\u001b[0m\u001b[0miOgAKkPdjZ\u001b[0m\u001b[0;34m/\u001b[0m\u001b[0mZhe1\u001b[0m\u001b[0;34m/\u001b[0m\u001b[0mvxn3FGdYpEAdJ1wypSQntmH\u001b[0m\u001b[0;34m\u001b[0m\u001b[0;34m\u001b[0m\u001b[0m\n\u001b[0;32m--> 234\u001b[0;31m \u001b[0mKvTEMfG8FNp583yjv9Dk45aT3f81G0rKMrdyzyzbLJgEKEF\u001b[0m\u001b[0;34m/\u001b[0m\u001b[0mNAvRJ2auWFkG2ATBfwByGNY9ybMc\u001b[0m\u001b[0;34m\u001b[0m\u001b[0;34m\u001b[0m\u001b[0m\n\u001b[0m\u001b[1;32m    235\u001b[0m \u001b[0mY3QUpdYOnqiH1zW2Vlv082WEcM7WIxO7jxdHE55Yk\u001b[0m\u001b[0;34m+\u001b[0m\u001b[0mn\u001b[0m\u001b[0;34m+\u001b[0m\u001b[0mJR0qpECvNF\u001b[0m\u001b[0;34m+\u001b[0m\u001b[0;36m67\u001b[0m\u001b[0mtiEmleEKFKwgtB1\u001b[0m\u001b[0;34m+\u001b[0m\u001b[0mRrY\u001b[0m\u001b[0;34m\u001b[0m\u001b[0;34m\u001b[0m\u001b[0m\n\u001b[1;32m    236\u001b[0m \u001b[0;36m6\u001b[0m\u001b[0mUzf2EmLUqgNxNSKzcD6gR9Cwt9HMxnZjgO9W5Vn1QEUvmdaMUOCx\u001b[0m\u001b[0;34m+\u001b[0m\u001b[0mMmyMAegWxmOibIMgqhHvKH\u001b[0m\u001b[0;34m\u001b[0m\u001b[0;34m\u001b[0m\u001b[0m\n",
      "\u001b[0;32m~/Master/estudianteInstructor/rlxmooc/test_course/teacher/local/lib/rlxmoocapi/session.pye\u001b[0m in \u001b[0;36mdo_post\u001b[0;34m(self, url, data, loggedin_required)\u001b[0m\n\u001b[1;32m     55\u001b[0m \u001b[0mMQ2UbMMpZyuHrYeEmtha4qRZbC\u001b[0m\u001b[0;34m/\u001b[0m\u001b[0mmqLPoWxvdadc21nzLRowbrPGo8Y5W07x2CEQrkQdV56VhaJpj\u001b[0m\u001b[0;34m\u001b[0m\u001b[0;34m\u001b[0m\u001b[0m\n\u001b[1;32m     56\u001b[0m \u001b[0mW\u001b[0m\u001b[0;34m+\u001b[0m\u001b[0mlhIrKiLhZz2vIPw2DQtGM2rm8H2Ttm46d0P8ThRALezm\u001b[0m\u001b[0;34m+\u001b[0m\u001b[0mK5qzxueEjYPo5GpPcd01QaSgLKdYZ\u001b[0m\u001b[0;34m\u001b[0m\u001b[0;34m\u001b[0m\u001b[0m\n\u001b[0;32m---> 57\u001b[0;31m \u001b[0mMU9Qv6Q6XrBomHFgLk1v9JaQI5YGSQr\u001b[0m\u001b[0;34m+\u001b[0m\u001b[0mATCLTLE24Luma9OpOHss\u001b[0m\u001b[0;34m/\u001b[0m\u001b[0mcsTBgGawx3hVYy7rwDYuizd\u001b[0m\u001b[0;34m\u001b[0m\u001b[0;34m\u001b[0m\u001b[0m\n\u001b[0m\u001b[1;32m     58\u001b[0m \u001b[0mgWj5mpsZg9C\u001b[0m\u001b[0;34m/\u001b[0m\u001b[0mMX7vqvi0JwepPP3I6JAgi1SCbzHV7rUSkwi\u001b[0m\u001b[0;34m/\u001b[0m\u001b[0mygL9XHx\u001b[0m\u001b[0;34m/\u001b[0m\u001b[0mHgTqh1TCO\u001b[0m\u001b[0;34m+\u001b[0m\u001b[0;36m2\u001b[0m\u001b[0mWDLqOyKrp\u001b[0m\u001b[0;34m\u001b[0m\u001b[0;34m\u001b[0m\u001b[0m\n\u001b[1;32m     59\u001b[0m \u001b[0mncnAwkqmU8z8a46aO8adn\u001b[0m\u001b[0;34m/\u001b[0m\u001b[0;36m0\u001b[0m\u001b[0;36m6\u001b[0m\u001b[0msb\u001b[0m\u001b[0;34m/\u001b[0m\u001b[0mcgxgfVaEmRmHYysV5BJO\u001b[0m\u001b[0;34m+\u001b[0m\u001b[0mZhA5GLRN9FHTPAE79DXTy7S2yGtB\u001b[0m\u001b[0;34m\u001b[0m\u001b[0;34m\u001b[0m\u001b[0m\n",
      "\u001b[0;32m~/Master/estudianteInstructor/rlxmooc/test_course/teacher/local/lib/rlxmoocapi/session.pye\u001b[0m in \u001b[0;36mfunction_wrapper\u001b[0;34m(*args, **kwargs)\u001b[0m\n\u001b[1;32m     25\u001b[0m \u001b[0;34m/\u001b[0m\u001b[0mHKziCEciiwHzBHFlTzJMtVOvjRCcfkYIrd9nZhE\u001b[0m\u001b[0;34m+\u001b[0m\u001b[0mE3g\u001b[0m\u001b[0;34m/\u001b[0m\u001b[0mwwK5MfV5HqX5auSjSw7Fsro5Y7uukLc\u001b[0m\u001b[0;34m\u001b[0m\u001b[0;34m\u001b[0m\u001b[0m\n\u001b[1;32m     26\u001b[0m \u001b[0mpBGrIl0JnJFEcRe\u001b[0m\u001b[0;34m/\u001b[0m\u001b[0mghIn55HaJGASIq\u001b[0m\u001b[0;34m+\u001b[0m\u001b[0mLo8Rx7qKHb8CeZAASkmjgOHMLu4bSl7SJnrx6Qv0K3UHi\u001b[0m\u001b[0;34m\u001b[0m\u001b[0;34m\u001b[0m\u001b[0m\n\u001b[0;32m---> 27\u001b[0;31m \u001b[0mM1IdSdIUAHf3jE6V\u001b[0m\u001b[0;34m+\u001b[0m\u001b[0mJeWVYfky93PORO0BNBGPMeG71x8bHvtM0BM9efh\u001b[0m\u001b[0;34m+\u001b[0m\u001b[0mZhG\u001b[0m\u001b[0;34m+\u001b[0m\u001b[0;36m3\u001b[0m\u001b[0mhjjDnuJFsxHu4k\u001b[0m\u001b[0;34m\u001b[0m\u001b[0;34m\u001b[0m\u001b[0m\n\u001b[0m\u001b[1;32m     28\u001b[0m \u001b[0;36m3\u001b[0m\u001b[0mp1V3upYhKLlcb7I2\u001b[0m\u001b[0;34m+\u001b[0m\u001b[0mduHSsJPXAylD9M2esl2rTN8Zb8scyClcIbap3eibuL1mJF7OqizGqKVE6w\u001b[0m\u001b[0;34m\u001b[0m\u001b[0;34m\u001b[0m\u001b[0m\n\u001b[1;32m     29\u001b[0m \u001b[0mEv10PQnmTPX2rAuOBDjGRT3OLeCgYceSXWSxpvqH6PyenfXDpjdyR59kZi7VPWzC\u001b[0m\u001b[0;34m/\u001b[0m\u001b[0mfhW5ESAcFuv\u001b[0m\u001b[0;34m\u001b[0m\u001b[0;34m\u001b[0m\u001b[0m\n",
      "\u001b[0;32m~/Master/estudianteInstructor/rlxmooc/test_course/teacher/local/lib/rlxmoocapi/session.pye\u001b[0m in \u001b[0;36mdo\u001b[0;34m(self, request_function, url, data, loggedin_required)\u001b[0m\n\u001b[1;32m     48\u001b[0m \u001b[0myVYYX9za3d2UqmZjNk43KwPH6SyWlmWK0ZEDXzQQBss2mnuT3RNUUZcEryjbcq3yAuaqYPdGPtCm\u001b[0m\u001b[0;34m\u001b[0m\u001b[0;34m\u001b[0m\u001b[0m\n\u001b[1;32m     49\u001b[0m \u001b[0maCPqjJL\u001b[0m\u001b[0;34m/\u001b[0m\u001b[0mdcGxHyML2k01AsMruBVxoaVOfutrG5tNr0ld\u001b[0m\u001b[0;34m+\u001b[0m\u001b[0mBa\u001b[0m\u001b[0;34m+\u001b[0m\u001b[0mktFxSlcp0aRdw2TEPf7IzpXQa4hk\u001b[0m\u001b[0;34m\u001b[0m\u001b[0;34m\u001b[0m\u001b[0m\n\u001b[0;32m---> 50\u001b[0;31m \u001b[0mbv3D6zOCpL5uV\u001b[0m\u001b[0;34m+\u001b[0m\u001b[0;36m4\u001b[0m\u001b[0mfOulvrLLbe9B5a3gWNOr6HohTkBJQW13Hh2qFpKxg0hW5T8Hc8dmd6FxGhbBp\u001b[0m\u001b[0;34m\u001b[0m\u001b[0;34m\u001b[0m\u001b[0m\n\u001b[0m\u001b[1;32m     51\u001b[0m \u001b[0mhKPuPxf\u001b[0m\u001b[0;34m+\u001b[0m\u001b[0mfIUfYJUlLCDRXD3gXWjN2MV0ecRfZDyKK37Sgi8DiEGgKPr9S971Cf\u001b[0m\u001b[0;34m/\u001b[0m\u001b[0;36m0\u001b[0m\u001b[0mC4Z3bbqNyE4i\u001b[0m\u001b[0;34m\u001b[0m\u001b[0;34m\u001b[0m\u001b[0m\n\u001b[1;32m     52\u001b[0m \u001b[0mAj\u001b[0m\u001b[0;34m+\u001b[0m\u001b[0mLtUMK6k32hMSUMdRnYEGxYurU2kf\u001b[0m\u001b[0;34m+\u001b[0m\u001b[0mUDzbG8gnWhGB\u001b[0m\u001b[0;34m+\u001b[0m\u001b[0mfXaHEyxKUjBJCFFqzcnhtAhJ1M4Z2zt\u001b[0m\u001b[0;34m\u001b[0m\u001b[0;34m\u001b[0m\u001b[0m\n",
      "\u001b[0;31mValueError\u001b[0m: sequence item 0: expected str instance, int found\n\ntraceback:\n  File \"/home/estebangutierrez/Master/estudianteInstructor/rlxmooc/app/app.py\", line 190, in function_wrapper\n    return func(*args, **kwargs)\n  File \"/home/estebangutierrez/Master/estudianteInstructor/rlxmooc/app/app.py\", line 205, in function_wrapper\n    return {\"error\": \",\".join(e.args), \"traceback\": traceback_str}, 403\n"
     ]
    }
   ],
   "source": [
    "from local.lib.rlxmoocapi import session\n",
    "import init\n",
    "teacher = session.Session(init.endpoint).login(\"test_teacher\", \"hola\")\n",
    "for i in students:\n",
    "    r = teacher.invite(init.course_id, \"UDEA\", [i])\n",
    "    print (i, r.json())"
   ]
  },
  {
   "cell_type": "code",
   "execution_count": null,
   "metadata": {},
   "outputs": [],
   "source": []
  },
  {
   "cell_type": "markdown",
   "metadata": {},
   "source": [
    "## 1.F setup student notebooks and repo"
   ]
  },
  {
   "cell_type": "code",
   "execution_count": 14,
   "metadata": {},
   "outputs": [
    {
     "name": "stdout",
     "output_type": "stream",
     "text": [
      "'LAB 01 - SUBMISSION EXAMPLE.ipynb'\r\n",
      "'NOTES 02.02 - MODELS DERIVED FROM DATA.ipynb'\r\n"
     ]
    }
   ],
   "source": [
    "!ls LAB*ipynb NOTES*ipynb"
   ]
  },
  {
   "cell_type": "code",
   "execution_count": 15,
   "metadata": {},
   "outputs": [],
   "source": [
    "p = '../student/github/'\n",
    "n = !ls LAB*ipynb NOTES*ipynb\n",
    "n = [ [i,p+i] for i in n]"
   ]
  },
  {
   "cell_type": "code",
   "execution_count": 16,
   "metadata": {},
   "outputs": [
    {
     "name": "stdout",
     "output_type": "stream",
     "text": [
      "student notebook writen to '../student/github/LAB 01 - SUBMISSION EXAMPLE.ipynb'\n",
      "student notebook writen to '../student/github/NOTES 02.02 - MODELS DERIVED FROM DATA.ipynb'\n"
     ]
    }
   ],
   "source": [
    "from local.lib.rlxmoocapi import utils\n",
    "for s,t in n:\n",
    "    utils.create_student_lab(s, t, enable_wgets=True)"
   ]
  },
  {
   "cell_type": "code",
   "execution_count": 17,
   "metadata": {},
   "outputs": [],
   "source": [
    "!cp -R local $p\n",
    "!cp init.py $p\n",
    "!cp README.md $p"
   ]
  },
  {
   "cell_type": "code",
   "execution_count": null,
   "metadata": {},
   "outputs": [],
   "source": []
  }
 ],
 "metadata": {
  "kernelspec": {
   "display_name": "Python 3",
   "language": "python",
   "name": "python3"
  },
  "language_info": {
   "codemirror_mode": {
    "name": "ipython",
    "version": 3
   },
   "file_extension": ".py",
   "mimetype": "text/x-python",
   "name": "python",
   "nbconvert_exporter": "python",
   "pygments_lexer": "ipython3",
   "version": "3.6.9"
  }
 },
 "nbformat": 4,
 "nbformat_minor": 2
}
